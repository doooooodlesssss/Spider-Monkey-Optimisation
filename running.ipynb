{
 "cells": [
  {
   "cell_type": "code",
   "execution_count": 5,
   "id": "3a1b039e",
   "metadata": {},
   "outputs": [
    {
     "name": "stdout",
     "output_type": "stream",
     "text": [
      "Running GA on Pressure Vessel...\n"
     ]
    },
    {
     "ename": "TypeError",
     "evalue": "argument of type 'module' is not iterable",
     "output_type": "error",
     "traceback": [
      "\u001b[0;31m---------------------------------------------------------------------------\u001b[0m",
      "\u001b[0;31mTypeError\u001b[0m                                 Traceback (most recent call last)",
      "File \u001b[0;32m~/Documents/SMO/evaluations/run_benchmark.py:132\u001b[0m\n\u001b[1;32m    128\u001b[0m                 \u001b[38;5;28mprint\u001b[39m(\u001b[38;5;124mf\u001b[39m\u001b[38;5;124m\"\u001b[39m\u001b[38;5;124mWilcoxon Test between \u001b[39m\u001b[38;5;132;01m{\u001b[39;00malgorithm1\u001b[38;5;132;01m}\u001b[39;00m\u001b[38;5;124m and \u001b[39m\u001b[38;5;132;01m{\u001b[39;00malgorithm2\u001b[38;5;132;01m}\u001b[39;00m\u001b[38;5;124m: p-value = \u001b[39m\u001b[38;5;132;01m{\u001b[39;00mp_value\u001b[38;5;132;01m}\u001b[39;00m\u001b[38;5;124m\"\u001b[39m)\n\u001b[1;32m    130\u001b[0m \u001b[38;5;28;01mif\u001b[39;00m \u001b[38;5;18m__name__\u001b[39m \u001b[38;5;241m==\u001b[39m \u001b[38;5;124m\"\u001b[39m\u001b[38;5;124m__main__\u001b[39m\u001b[38;5;124m\"\u001b[39m:\n\u001b[1;32m    131\u001b[0m     \u001b[38;5;66;03m# Run the benchmarking process\u001b[39;00m\n\u001b[0;32m--> 132\u001b[0m     \u001b[43mrun_benchmark\u001b[49m\u001b[43m(\u001b[49m\u001b[43m)\u001b[49m\n\u001b[1;32m    134\u001b[0m     \u001b[38;5;66;03m# Load the results from CSV\u001b[39;00m\n\u001b[1;32m    135\u001b[0m     results_df \u001b[38;5;241m=\u001b[39m pd\u001b[38;5;241m.\u001b[39mread_csv(\u001b[38;5;124m'\u001b[39m\u001b[38;5;124m./results/benchmark_results.csv\u001b[39m\u001b[38;5;124m'\u001b[39m)\n",
      "File \u001b[0;32m~/Documents/SMO/evaluations/run_benchmark.py:97\u001b[0m, in \u001b[0;36mrun_benchmark\u001b[0;34m()\u001b[0m\n\u001b[1;32m     94\u001b[0m \u001b[38;5;28mprint\u001b[39m(\u001b[38;5;124mf\u001b[39m\u001b[38;5;124m\"\u001b[39m\u001b[38;5;124mRunning \u001b[39m\u001b[38;5;132;01m{\u001b[39;00malgorithm_name\u001b[38;5;132;01m}\u001b[39;00m\u001b[38;5;124m on \u001b[39m\u001b[38;5;132;01m{\u001b[39;00mproblem_name\u001b[38;5;132;01m}\u001b[39;00m\u001b[38;5;124m...\u001b[39m\u001b[38;5;124m\"\u001b[39m)\n\u001b[1;32m     96\u001b[0m \u001b[38;5;66;03m# Evaluate the problem using the algorithm\u001b[39;00m\n\u001b[0;32m---> 97\u001b[0m mean_result, std_result, convergence_curves \u001b[38;5;241m=\u001b[39m \u001b[43mevaluate_problem\u001b[49m\u001b[43m(\u001b[49m\u001b[43mproblem\u001b[49m\u001b[43m,\u001b[49m\u001b[43m \u001b[49m\u001b[43malgorithm\u001b[49m\u001b[43m)\u001b[49m\n\u001b[1;32m     99\u001b[0m \u001b[38;5;66;03m# Save the convergence plot\u001b[39;00m\n\u001b[1;32m    100\u001b[0m plot_convergence_curve(convergence_curves, algorithm_name, problem_name)\n",
      "File \u001b[0;32m~/Documents/SMO/evaluations/run_benchmark.py:32\u001b[0m, in \u001b[0;36mevaluate_problem\u001b[0;34m(problem, algorithm, num_runs, num_evals)\u001b[0m\n\u001b[1;32m     29\u001b[0m start_time \u001b[38;5;241m=\u001b[39m time\u001b[38;5;241m.\u001b[39mtime()\n\u001b[1;32m     31\u001b[0m \u001b[38;5;66;03m# If problem is from OPFUNU\u001b[39;00m\n\u001b[0;32m---> 32\u001b[0m \u001b[38;5;28;01mif\u001b[39;00m \u001b[38;5;124;43m'\u001b[39;49m\u001b[38;5;124;43mCEC\u001b[39;49m\u001b[38;5;124;43m'\u001b[39;49m\u001b[43m \u001b[49m\u001b[38;5;129;43;01min\u001b[39;49;00m\u001b[43m \u001b[49m\u001b[43mproblem\u001b[49m:  \n\u001b[1;32m     33\u001b[0m     best_result, convergence_curve \u001b[38;5;241m=\u001b[39m problem(algorithm, num_evals)\n\u001b[1;32m     34\u001b[0m \u001b[38;5;28;01melse\u001b[39;00m:  \u001b[38;5;66;03m# Regular engineering problems\u001b[39;00m\n\u001b[1;32m     35\u001b[0m     \u001b[38;5;66;03m# Get the problem-specific bounds and pass them to the algorithm\u001b[39;00m\n",
      "\u001b[0;31mTypeError\u001b[0m: argument of type 'module' is not iterable"
     ]
    }
   ],
   "source": [
    "%run evaluations/run_benchmark.py"
   ]
  },
  {
   "cell_type": "code",
   "execution_count": null,
   "id": "943567e4",
   "metadata": {},
   "outputs": [],
   "source": []
  }
 ],
 "metadata": {
  "kernelspec": {
   "display_name": "Python 3 (ipykernel)",
   "language": "python",
   "name": "python3"
  },
  "language_info": {
   "codemirror_mode": {
    "name": "ipython",
    "version": 3
   },
   "file_extension": ".py",
   "mimetype": "text/x-python",
   "name": "python",
   "nbconvert_exporter": "python",
   "pygments_lexer": "ipython3",
   "version": "3.10.9"
  }
 },
 "nbformat": 4,
 "nbformat_minor": 5
}
