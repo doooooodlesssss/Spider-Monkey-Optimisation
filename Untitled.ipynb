{
 "cells": [
  {
   "cell_type": "code",
   "execution_count": 10,
   "id": "cc979132",
   "metadata": {},
   "outputs": [
    {
     "ename": "ModuleNotFoundError",
     "evalue": "No module named 'cec2014'",
     "output_type": "error",
     "traceback": [
      "\u001b[0;31m---------------------------------------------------------------------------\u001b[0m",
      "\u001b[0;31mModuleNotFoundError\u001b[0m                       Traceback (most recent call last)",
      "Cell \u001b[0;32mIn[10], line 3\u001b[0m\n\u001b[1;32m      1\u001b[0m \u001b[38;5;28;01mimport\u001b[39;00m\u001b[38;5;250m \u001b[39m\u001b[38;5;21;01mnumpy\u001b[39;00m\u001b[38;5;250m \u001b[39m\u001b[38;5;28;01mas\u001b[39;00m\u001b[38;5;250m \u001b[39m\u001b[38;5;21;01mnp\u001b[39;00m\n\u001b[1;32m      2\u001b[0m \u001b[38;5;28;01mimport\u001b[39;00m\u001b[38;5;250m \u001b[39m\u001b[38;5;21;01mmatplotlib\u001b[39;00m\u001b[38;5;21;01m.\u001b[39;00m\u001b[38;5;21;01mpyplot\u001b[39;00m\u001b[38;5;250m \u001b[39m\u001b[38;5;28;01mas\u001b[39;00m\u001b[38;5;250m \u001b[39m\u001b[38;5;21;01mplt\u001b[39;00m\n\u001b[0;32m----> 3\u001b[0m \u001b[38;5;28;01mimport\u001b[39;00m\u001b[38;5;250m \u001b[39m\u001b[38;5;21;01mcec2014\u001b[39;00m\n\u001b[1;32m      4\u001b[0m \u001b[38;5;28;01mfrom\u001b[39;00m\u001b[38;5;250m \u001b[39m\u001b[38;5;21;01mtqdm\u001b[39;00m\u001b[38;5;250m \u001b[39m\u001b[38;5;28;01mimport\u001b[39;00m tqdm\n",
      "\u001b[0;31mModuleNotFoundError\u001b[0m: No module named 'cec2014'"
     ]
    }
   ],
   "source": [
    "import numpy as np\n",
    "import matplotlib.pyplot as plt\n",
    "import cec2014\n",
    "from tqdm import tqdm  "
   ]
  },
  {
   "cell_type": "code",
   "execution_count": 4,
   "id": "cf8889d6",
   "metadata": {},
   "outputs": [],
   "source": [
    "def sphere(x):\n",
    "    \"\"\"\n",
    "    Sphere objective function (sum of squares). Global minimum = 0 at x=0.\n",
    "    \"\"\"\n",
    "    return np.sum(x**2)\n"
   ]
  },
  {
   "cell_type": "code",
   "execution_count": 5,
   "id": "d89ae62f",
   "metadata": {},
   "outputs": [],
   "source": [
    "def linear_perturbation(iteration, max_iter):\n",
    "    \"\"\"\n",
    "    Linear perturbation rate: P = iteration / max_iter.\n",
    "    Increases from 0 to 1 over iterations.\n",
    "    \"\"\"\n",
    "    return iteration / max_iter"
   ]
  },
  {
   "cell_type": "code",
   "execution_count": 6,
   "id": "0d6d8914",
   "metadata": {},
   "outputs": [],
   "source": [
    "def hyperbolic_perturbation(iteration, max_iter):\n",
    "    \"\"\"\n",
    "    Computes the perturbation rate at iteration t using the hyperbolic schedule.\n",
    "    \n",
    "    Parameters:\n",
    "    - t (int): Current iteration number\n",
    "    - pr_min (float): Minimum perturbation rate (default: 0.1)\n",
    "    - pr_max (float): Maximum perturbation rate (default: 0.8)\n",
    "    - k (int): Steepness control parameter (default: 500)\n",
    "    \n",
    "    Returns:\n",
    "    - float: Perturbation rate at iteration t\n",
    "    \"\"\"\n",
    "    pr_min = 0.1\n",
    "    pr_max = 0.8\n",
    "    k=500 #steepness control\n",
    "    return pr_min + ((pr_max - pr_min) * (iteration ** 2)) / (k + iteration ** 2)\n"
   ]
  },
  {
   "cell_type": "code",
   "execution_count": null,
   "id": "fdfd27c8",
   "metadata": {},
   "outputs": [],
   "source": []
  },
  {
   "cell_type": "code",
   "execution_count": 7,
   "id": "36e00ba5",
   "metadata": {},
   "outputs": [],
   "source": [
    "def smo_algorithm(num_monkeys, dimensions, lb, ub, max_iter, perturb_func):\n",
    "    \"\"\"\n",
    "    Spider Monkey Optimization (SMO) implementation.\n",
    "    - num_monkeys: number of agents (population size).\n",
    "    - dimensions: problem dimensionality.\n",
    "    - lb, ub: lower and upper bound (scalar or array) for each dimension.\n",
    "    - max_iter: number of iterations.\n",
    "    - perturb_func: function P(iter, max_iter) that returns perturbation rate.\n",
    "    Returns: best_solution, best_fitness, fitness_history.\n",
    "    \"\"\"\n",
    "    # initialize \n",
    "    monkeys = np.random.uniform(lb, ub, (num_monkeys, dimensions))\n",
    "    fitness = np.array([sphere(ind) for ind in monkeys])\n",
    "    best_idx = np.argmin(fitness)\n",
    "    best = monkeys[best_idx].copy()\n",
    "    best_fitness = fitness[best_idx]\n",
    "    fitness_history = [best_fitness]\n",
    "\n",
    "    for it in range(1, max_iter + 1):\n",
    "        P = perturb_func(it, max_iter) \n",
    "        \n",
    "        # foraging\n",
    "        for i in range(num_monkeys):\n",
    "            direction = best - monkeys[i]\n",
    "            step = np.random.uniform(-1, 1, size=dimensions) * direction\n",
    "            new_pos = monkeys[i] + P * step\n",
    "            new_pos = np.clip(new_pos, lb, ub)\n",
    "            new_fit = sphere(new_pos)\n",
    "            if new_fit < fitness[i]:\n",
    "                monkeys[i] = new_pos\n",
    "                fitness[i] = new_fit\n",
    "        \n",
    "        # jumping \n",
    "        for i in range(num_monkeys):\n",
    "            if np.random.rand() < P:\n",
    "                monkeys[i] = np.random.uniform(lb, ub, size=dimensions)\n",
    "                fitness[i] = sphere(monkeys[i])\n",
    "\n",
    "        # update\n",
    "        curr_best_idx = np.argmin(fitness)\n",
    "        curr_best_fit = fitness[curr_best_idx]\n",
    "        if curr_best_fit < best_fitness:\n",
    "            best_fitness = curr_best_fit\n",
    "            best = monkeys[curr_best_idx].copy()\n",
    "        \n",
    "        fitness_history.append(best_fitness)\n",
    "\n",
    "    return best, best_fitness, fitness_history\n"
   ]
  },
  {
   "cell_type": "code",
   "execution_count": 8,
   "id": "a03c566c",
   "metadata": {
    "scrolled": true
   },
   "outputs": [
    {
     "name": "stdout",
     "output_type": "stream",
     "text": [
      "Linear Perturbation SMO: Best Fitness = 3.430690\n",
      "Hyperbolic Perturbation SMO: Best Fitness = 2.391616\n"
     ]
    },
    {
     "data": {
      "image/png": "[encoded data removed]",
      "text/plain": [
       "<Figure size 600x400 with 1 Axes>"
      ]
     },
     "metadata": {},
     "output_type": "display_data"
    }
   ],
   "source": [
    "def main():\n",
    "    # Benchmark problem: 5-dimensional Sphere function\n",
    "    num_monkeys = 60\n",
    "    dimensions = 5\n",
    "    lb, ub = -10, 10\n",
    "    max_iter = 300\n",
    "    np.random.seed(0)  # for reproducibility\n",
    "    \n",
    "    # Run SMO with linear perturbation\n",
    "    best_lin, fit_lin, hist_lin = smo_algorithm(\n",
    "        num_monkeys, dimensions, lb, ub, max_iter, linear_perturbation)\n",
    "    # Run SMO with hyperbolic perturbation\n",
    "    best_hyp, fit_hyp, hist_hyp = smo_algorithm(\n",
    "        num_monkeys, dimensions, lb, ub, max_iter, hyperbolic_perturbation)\n",
    "    \n",
    "    print(f\"Linear Perturbation SMO: Best Fitness = {fit_lin:.6f}\")\n",
    "    print(f\"Hyperbolic Perturbation SMO: Best Fitness = {fit_hyp:.6f}\")\n",
    "    # Plot convergence curves for comparison\n",
    "    plt.figure(figsize=(6,4))\n",
    "    plt.plot(hist_lin, label='Linear SMO', color='orange')\n",
    "    plt.plot(hist_hyp, label='Hyperbolic SMO', color='red')\n",
    "    plt.xlabel('Iteration'); plt.ylabel('Best Fitness')\n",
    "    plt.title('SMO Convergence Comparison')\n",
    "    plt.legend(); plt.grid(True); plt.tight_layout()\n",
    "    plt.savefig('smo_comparison.png')\n",
    "    plt.show()\n",
    "\n",
    "if __name__ == \"__main__\":\n",
    "    main()"
   ]
  },
  {
   "cell_type": "code",
   "execution_count": 9,
   "id": "4a12a6cf",
   "metadata": {},
   "outputs": [
    {
     "ename": "NameError",
     "evalue": "name 'tqdm' is not defined",
     "output_type": "error",
     "traceback": [
      "\u001b[0;31m---------------------------------------------------------------------------\u001b[0m",
      "\u001b[0;31mNameError\u001b[0m                                 Traceback (most recent call last)",
      "Cell \u001b[0;32mIn[9], line 12\u001b[0m\n\u001b[1;32m      9\u001b[0m results \u001b[38;5;241m=\u001b[39m np\u001b[38;5;241m.\u001b[39mzeros((num_runs, num_functions))\n\u001b[1;32m     11\u001b[0m \u001b[38;5;66;03m# Run benchmarks\u001b[39;00m\n\u001b[0;32m---> 12\u001b[0m \u001b[38;5;28;01mfor\u001b[39;00m func_id \u001b[38;5;129;01min\u001b[39;00m \u001b[43mtqdm\u001b[49m(\u001b[38;5;28mrange\u001b[39m(\u001b[38;5;241m1\u001b[39m, num_functions \u001b[38;5;241m+\u001b[39m \u001b[38;5;241m1\u001b[39m), desc\u001b[38;5;241m=\u001b[39m\u001b[38;5;124m\"\u001b[39m\u001b[38;5;124mBenchmarking CEC2014\u001b[39m\u001b[38;5;124m\"\u001b[39m):\n\u001b[1;32m     13\u001b[0m     func \u001b[38;5;241m=\u001b[39m cec2014\u001b[38;5;241m.\u001b[39mFunc(func_id, dimensions)\n\u001b[1;32m     14\u001b[0m     \u001b[38;5;28;01mfor\u001b[39;00m run \u001b[38;5;129;01min\u001b[39;00m \u001b[38;5;28mrange\u001b[39m(num_runs):\n",
      "\u001b[0;31mNameError\u001b[0m: name 'tqdm' is not defined"
     ]
    }
   ],
   "source": [
    "num_runs = 50\n",
    "num_functions = 30\n",
    "dimensions = 30\n",
    "max_evals = 60000\n",
    "num_monkeys = 50  # can tune based on budget\n",
    "lb, ub = -100, 100\n",
    "\n",
    "# Initialize result matrix\n",
    "results = np.zeros((num_runs, num_functions))\n",
    "\n",
    "# Run benchmarks\n",
    "for func_id in tqdm(range(1, num_functions + 1), desc=\"Benchmarking CEC2014\"):\n",
    "    func = cec2014.Func(func_id, dimensions)\n",
    "    for run in range(num_runs):\n",
    "        _, fitness, _ = smo_algorithm(\n",
    "            obj_func=func.eval,\n",
    "            num_monkeys=num_monkeys,\n",
    "            dimensions=dimensions,\n",
    "            lb=lb,\n",
    "            ub=ub,\n",
    "            max_evals=max_evals,\n",
    "            perturb_func=linear_decay\n",
    "        )\n",
    "        results[run, func_id - 1] = fitness\n",
    "\n",
    "# Save results to CSV\n",
    "np.savetxt(\"smo_cec2014_results.csv\", results, delimiter=\",\")\n",
    "print(\"Benchmark complete. Results saved to 'smo_cec2014_results.csv'.\")"
   ]
  }
 ],
 "metadata": {
  "kernelspec": {
   "display_name": "Python 3 (ipykernel)",
   "language": "python",
   "name": "python3"
  },
  "language_info": {
   "codemirror_mode": {
    "name": "ipython",
    "version": 3
   },
   "file_extension": ".py",
   "mimetype": "text/x-python",
   "name": "python",
   "nbconvert_exporter": "python",
   "pygments_lexer": "ipython3",
   "version": "3.10.9"
  }
 },
 "nbformat": 4,
 "nbformat_minor": 5
}
